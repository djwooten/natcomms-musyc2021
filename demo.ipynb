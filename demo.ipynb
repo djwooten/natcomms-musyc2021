{
 "cells": [
  {
   "cell_type": "markdown",
   "metadata": {},
   "source": [
    "# MuSyC Demo"
   ]
  },
  {
   "cell_type": "code",
   "execution_count": 1,
   "metadata": {
    "scrolled": false
   },
   "outputs": [
    {
     "data": {
      "application/vnd.jupyter.widget-view+json": {
       "model_id": "737159fccc4e4029875861b782e4e034",
       "version_major": 2,
       "version_minor": 0
      },
      "text/plain": [
       "VBox(children=(FigureWidget({\n",
       "    'data': [{'cmax': 1,\n",
       "              'cmin': 0,\n",
       "              'colorbar': {'le…"
      ]
     },
     "metadata": {},
     "output_type": "display_data"
    }
   ],
   "source": [
    "import synergy_demo_backend\n",
    "musyc_demo = synergy_demo_backend.MuSyC_Demo()\n",
    "musyc_demo.run()"
   ]
  },
  {
   "cell_type": "markdown",
   "metadata": {},
   "source": [
    "An interactive demo of the MuSyC synergy model, showing how the single-drug and synergy parameters control the dose-response surface. The top 6 sliders (E1, E2, log(C1), log(C2), log(h1), and log(h2)) describe single drug response parameters. The next 5 sliders (beta, log(alp12), log(alp21), log(gam12), log(gam21)) are MuSyC's synergy parameters. Parameters which range from 0 to +infinity (C, h, alpha, gamma) are controlled by sliders on a log scale. The \"Reset\" button sets the sliders to their original values. The other buttons automatically adjust the sliders to make the dose-response surface match the indicated null model. (Note: when log(alpha) is set to -3.00 on the slider, it is interpreted for the visualization as alpha=0, which is required to match the Loewe null model).\n",
    "\n",
    "When beta=0, the combination plateaus at Emax of the stronger single drug. Adjusting the sliders for either E1 or E2 will show that whenever one drug becomes stronger than the other, the strength of the combination at high doses follows E of the stronger drug. Adjusting the beta slider will further increase or decrease the efficacy at high concentrations of both drugs, relative to the stronger drug.\n",
    "\n",
    "Adjusting the C1 slider will shift the potency of drug 1 across the entire dose-response surface, while the alpha21 slider has a larger impact on drug 1's potency at higher doses of drug 2. The converse holds for the C2 and alpha12 sliders. For the weaker drug, this can be most easily seen when beta $\\neq$ 0. For instance if E1 $\\lt$ E2 (meaning drug 2 is weaker), the impacts of the alpha12 slider are easiest to see if beta $\\neq$ 0.\n",
    "\n",
    "A similar pattern holds when adjusting the h1 and gamma21 sliders (or conversely the h2 and gamma12 sliders), but for Hill slope instead of potency."
   ]
  },
  {
   "cell_type": "markdown",
   "metadata": {},
   "source": [
    "# MuSyC and Bliss Comparison"
   ]
  },
  {
   "cell_type": "code",
   "execution_count": 2,
   "metadata": {},
   "outputs": [
    {
     "data": {
      "application/vnd.jupyter.widget-view+json": {
       "model_id": "a690fe949d2a48179933d2d4792a7c38",
       "version_major": 2,
       "version_minor": 0
      },
      "text/plain": [
       "VBox(children=(HBox(children=(FigureWidget({\n",
       "    'data': [{'cmax': 1,\n",
       "              'cmin': 0,\n",
       "              '…"
      ]
     },
     "metadata": {},
     "output_type": "display_data"
    }
   ],
   "source": [
    "bliss_demo = synergy_demo_backend.MuSyC_Bliss_Demo()\n",
    "bliss_demo.run()"
   ]
  },
  {
   "cell_type": "markdown",
   "metadata": {},
   "source": [
    "Interactive demo demonstrating the relationship between MuSyC and Bliss. The left plot shows a MuSyC dose-response surface based on the parameter sliders. The right plot shows a Bliss excess synergy landscape for the dose-response surface (positive values indicate Bliss synergy, negative values indicate Bliss antagonism). Note, synergy by MuSyC is encoded in the synergy parameters (sliders), and thus there is not a corresponding \"MuSyC\" synergy landscape with dose-dependent synergy/antagonism, as there is with Bliss.\n",
    "\n",
    "The default parameters describe a MuSyC null surface, in which case the maximum strength of the combination is limited by the maximum strength of the stronger drug. Bliss expects the combination to become stronger than the stronger drug, so at high concentrations of both drugs, Bliss rates this combination as antagonistic.\n",
    "\n",
    "Starting from the Bliss null model (click the \"Bliss Null\" button), increasing alpha21 leads to synergy at high doses of drug 2 near and just below the EC50 of drug 1, and vice versa for increasing alpha12 instead. Increasing beta (which will be greater than zero unless you have set E1=E2=0) leads to synergy at high doses of both drugs. Note that beta=0 is reflected as antagonism at high doses by Bliss. Increasing gamma21 leads to antagonism just below the EC50 of drug 1, and synergism just above that EC50, and likewise for gamma12. Decreasing any synergy slider leads to similar, but opposite synergy/antagonism patterns at similar doses to those discussed above.\n",
    "\n",
    "While these patterns are easy to identify when considering the entire Bliss excess landscape and adjusting only a single synergy parameter at a time, complex combinations of multiple types of synergy can lead to complex patterns of the Bliss excess landscape."
   ]
  },
  {
   "cell_type": "markdown",
   "metadata": {},
   "source": [
    "# MuSyC and Loewe Comparison"
   ]
  },
  {
   "cell_type": "code",
   "execution_count": 3,
   "metadata": {},
   "outputs": [
    {
     "data": {
      "application/vnd.jupyter.widget-view+json": {
       "model_id": "9d9f9be3256341109c1f46a2aeaaeb95",
       "version_major": 2,
       "version_minor": 0
      },
      "text/plain": [
       "VBox(children=(HBox(children=(FigureWidget({\n",
       "    'data': [{'cmax': 1,\n",
       "              'cmin': 0,\n",
       "              '…"
      ]
     },
     "metadata": {},
     "output_type": "display_data"
    }
   ],
   "source": [
    "loewe_demo = synergy_demo_backend.MuSyC_Loewe_Demo()\n",
    "loewe_demo.run()"
   ]
  },
  {
   "cell_type": "markdown",
   "metadata": {},
   "source": [
    "Interactive demo demonstrating the relationship between MuSyC and Loewe. The left plot shows a MuSyC dose-response surface based on the parameter sliders. The right plot shows a Loewe synergy landscape for the dose-response surface (positive values indicate Loewe synergy, negative values indicate Loewe antagonism). Note, synergy by MuSyC is encoded in the synergy parameters (sliders), and thus there is not a corresponding \"MuSyC\" synergy landscape with dose-dependent synergy/antagonism, as there is with Loewe. Furthermore, Loewe synergy becomes undefined for effects stronger than the weaker single drug, leading to undefined regions in the Loewe synergy landscape. As doses approach these regions (i.e., wherever E $\\approx$ max(E1,E2)), -log(Loewe) synergy approaches $\\pm \\infty$, which in some cases causes visual tearing or feathering artifacts.\n",
    "\n",
    "The default parameters describe a MuSyC null surface. Loewe emerges from MuSyC when the drugs are infinitely antagonistically potent (alpha12 = alpha21 = 0, or log(alpha12) = log(alpha21) = $-\\infty$. Because the MuSyC null model has alpha12 = alpha21 = 1, this combination appears synergistic by Loewe.\n",
    "\n",
    "Starting from the Loewe null model (click the \"Loewe Null\" button), adjusting beta and gamma sliders does nothing, since these parameters have no effect when alpha=0. Increasing alpha21 leads predominately to Loewe synergy when d2 $\\gt$ d1. As this slider is increased, the synergy becomes apparent at lower and lower doses of drug 1. The converse holds for increasing alpha12. However this pattern is not as clear when other sliders, including single-drug sliders, are also adjusted.\n",
    "\n",
    "Further, the Loewe null model only matches MuSyC when h1=h2=1. Setting h $\\lt$ 1 (log(h) $\\lt$ 0) leads to synergy in the Loewe model, while setting h $\\gt$ 1 (log(h) $\\gt$ 0) leads to antagonism. This can be seen by starting from the Loewe null model and adjusting the sliders for log(h1) and log(h2).\n",
    "\n",
    "If alpha12 or alpha21 are greater than zero, then the sliders for beta and gamma have impacts. Setting beta $\\gt$ 0 leads to a larger region with E stronger than the weaker single drug, which correspondingly has undefined synergy by Loewe. Adjusting gamma and alpha sliders in this case can also impact the size of the undefined region. Setting beta $\\lt$ 0 allows Loewe to be defined. As with Bliss, Loewe becomes antagonistic at high concentrations of both drugs in this case. Adjusting the sliders for gamma can impact the size of the antagonistic region."
   ]
  },
  {
   "cell_type": "markdown",
   "metadata": {},
   "source": [
    "# Demo showing MuSyC, Bliss, and Loewe"
   ]
  },
  {
   "cell_type": "code",
   "execution_count": 4,
   "metadata": {},
   "outputs": [
    {
     "data": {
      "application/vnd.jupyter.widget-view+json": {
       "model_id": "7159d4ff36ca453e8dc0b10ebf6079f0",
       "version_major": 2,
       "version_minor": 0
      },
      "text/plain": [
       "VBox(children=(FigureWidget({\n",
       "    'data': [{'cmax': 1,\n",
       "              'cmin': 0,\n",
       "              'colorbar': {'le…"
      ]
     },
     "metadata": {},
     "output_type": "display_data"
    }
   ],
   "source": [
    "all_demo = synergy_demo_backend.All_Demo()\n",
    "all_demo.run()"
   ]
  },
  {
   "cell_type": "markdown",
   "metadata": {},
   "source": [
    "This combines the MuSyC dose response surface, Bliss excess synergy landscape, and Loewe synergy landscape into a single interactive demo, showing the relationships simultaneously between all three."
   ]
  },
  {
   "cell_type": "code",
   "execution_count": null,
   "metadata": {},
   "outputs": [],
   "source": []
  }
 ],
 "metadata": {
  "kernelspec": {
   "display_name": "Python 3",
   "language": "python",
   "name": "python3"
  },
  "language_info": {
   "codemirror_mode": {
    "name": "ipython",
    "version": 3
   },
   "file_extension": ".py",
   "mimetype": "text/x-python",
   "name": "python",
   "nbconvert_exporter": "python",
   "pygments_lexer": "ipython3",
   "version": "3.8.8"
  },
  "widgets": {
   "application/vnd.jupyter.widget-state+json": {
    "state": {},
    "version_major": 2,
    "version_minor": 0
   }
  }
 },
 "nbformat": 4,
 "nbformat_minor": 4
}
